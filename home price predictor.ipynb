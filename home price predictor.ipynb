{
 "cells": [
  {
   "cell_type": "code",
   "execution_count": 48,
   "metadata": {},
   "outputs": [
    {
     "ename": "FileNotFoundError",
     "evalue": "[Errno 2] No such file or directory: 'home_data.txt'",
     "output_type": "error",
     "traceback": [
      "\u001b[0;31m---------------------------------------------------------------------------\u001b[0m",
      "\u001b[0;31mFileNotFoundError\u001b[0m                         Traceback (most recent call last)",
      "Cell \u001b[0;32mIn[48], line 1\u001b[0m\n\u001b[0;32m----> 1\u001b[0m home \u001b[38;5;241m=\u001b[39m \u001b[38;5;28;43mopen\u001b[39;49m\u001b[43m(\u001b[49m\u001b[38;5;124;43m'\u001b[39;49m\u001b[38;5;124;43mhome_data.txt\u001b[39;49m\u001b[38;5;124;43m'\u001b[39;49m\u001b[43m)\u001b[49m\n",
      "File \u001b[0;32m~/Library/Python/3.11/lib/python/site-packages/IPython/core/interactiveshell.py:324\u001b[0m, in \u001b[0;36m_modified_open\u001b[0;34m(file, *args, **kwargs)\u001b[0m\n\u001b[1;32m    317\u001b[0m \u001b[38;5;28;01mif\u001b[39;00m file \u001b[38;5;129;01min\u001b[39;00m {\u001b[38;5;241m0\u001b[39m, \u001b[38;5;241m1\u001b[39m, \u001b[38;5;241m2\u001b[39m}:\n\u001b[1;32m    318\u001b[0m     \u001b[38;5;28;01mraise\u001b[39;00m \u001b[38;5;167;01mValueError\u001b[39;00m(\n\u001b[1;32m    319\u001b[0m         \u001b[38;5;124mf\u001b[39m\u001b[38;5;124m\"\u001b[39m\u001b[38;5;124mIPython won\u001b[39m\u001b[38;5;124m'\u001b[39m\u001b[38;5;124mt let you open fd=\u001b[39m\u001b[38;5;132;01m{\u001b[39;00mfile\u001b[38;5;132;01m}\u001b[39;00m\u001b[38;5;124m by default \u001b[39m\u001b[38;5;124m\"\u001b[39m\n\u001b[1;32m    320\u001b[0m         \u001b[38;5;124m\"\u001b[39m\u001b[38;5;124mas it is likely to crash IPython. If you know what you are doing, \u001b[39m\u001b[38;5;124m\"\u001b[39m\n\u001b[1;32m    321\u001b[0m         \u001b[38;5;124m\"\u001b[39m\u001b[38;5;124myou can use builtins\u001b[39m\u001b[38;5;124m'\u001b[39m\u001b[38;5;124m open.\u001b[39m\u001b[38;5;124m\"\u001b[39m\n\u001b[1;32m    322\u001b[0m     )\n\u001b[0;32m--> 324\u001b[0m \u001b[38;5;28;01mreturn\u001b[39;00m \u001b[43mio_open\u001b[49m\u001b[43m(\u001b[49m\u001b[43mfile\u001b[49m\u001b[43m,\u001b[49m\u001b[43m \u001b[49m\u001b[38;5;241;43m*\u001b[39;49m\u001b[43margs\u001b[49m\u001b[43m,\u001b[49m\u001b[43m \u001b[49m\u001b[38;5;241;43m*\u001b[39;49m\u001b[38;5;241;43m*\u001b[39;49m\u001b[43mkwargs\u001b[49m\u001b[43m)\u001b[49m\n",
      "\u001b[0;31mFileNotFoundError\u001b[0m: [Errno 2] No such file or directory: 'home_data.txt'"
     ]
    }
   ],
   "source": [
    "home = open('home_data.txt')"
   ]
  },
  {
   "cell_type": "code",
   "execution_count": null,
   "metadata": {},
   "outputs": [
    {
     "data": {
      "text/plain": [
       "<_io.TextIOWrapper name='home_data.txt' mode='r' encoding='utf-8'>"
      ]
     },
     "execution_count": 36,
     "metadata": {},
     "output_type": "execute_result"
    }
   ],
   "source": [
    "home"
   ]
  },
  {
   "cell_type": "code",
   "execution_count": null,
   "metadata": {},
   "outputs": [],
   "source": [
    "data = home.read()"
   ]
  },
  {
   "cell_type": "code",
   "execution_count": null,
   "metadata": {},
   "outputs": [
    {
     "name": "stdout",
     "output_type": "stream",
     "text": [
      "2604,762833\n",
      "3095,248894\n",
      "3337,892307\n",
      "3217,778811\n",
      "2860,763554\n",
      "2770,742630\n",
      "2085,781118\n",
      "3863,955448\n",
      "3205,151643\n",
      "3233,278067\n",
      "4706,918707\n",
      "1651,715654\n",
      "4063,288055\n",
      "3249,212246\n",
      "2143,969271\n",
      "1288,283251\n",
      "3060,64632\n",
      "4096,517284\n",
      "2581,983617\n",
      "4900,719054\n",
      "2919,350175\n",
      "2361,847687\n",
      "4068,478945\n",
      "3628,368763\n",
      "889,498389\n",
      "738,666705\n",
      "870,641584\n",
      "3380,177303\n",
      "2551,63295\n",
      "1840,879537\n",
      "4237,217162\n",
      "3877,162258\n",
      "4553,822152\n",
      "4931,493866\n",
      "4647,370454\n",
      "4268,323686\n",
      "4528,727553\n",
      "2532,764040\n",
      "936,672049\n",
      "4775,910316\n",
      "4035,961373\n",
      "675,876985\n",
      "1470,519517\n",
      "1462,907198\n",
      "552,699964\n",
      "3592,432279\n",
      "4801,341969\n",
      "604,247908\n",
      "946,336076\n",
      "627,966911\n"
     ]
    }
   ],
   "source": [
    "print(data)"
   ]
  },
  {
   "cell_type": "code",
   "execution_count": null,
   "metadata": {},
   "outputs": [
    {
     "name": "stdout",
     "output_type": "stream",
     "text": [
      "<class 'str'>\n"
     ]
    }
   ],
   "source": [
    "print(type(data))"
   ]
  },
  {
   "cell_type": "code",
   "execution_count": null,
   "metadata": {},
   "outputs": [
    {
     "data": {
      "text/plain": [
       "'2604,762833\\n3095,248894\\n3337,892307\\n3217,778811\\n2860,763554\\n2770,742630\\n2085,781118\\n3863,955448\\n3205,151643\\n3233,278067\\n4706,918707\\n1651,715654\\n4063,288055\\n3249,212246\\n2143,969271\\n1288,283251\\n3060,64632\\n4096,517284\\n2581,983617\\n4900,719054\\n2919,350175\\n2361,847687\\n4068,478945\\n3628,368763\\n889,498389\\n738,666705\\n870,641584\\n3380,177303\\n2551,63295\\n1840,879537\\n4237,217162\\n3877,162258\\n4553,822152\\n4931,493866\\n4647,370454\\n4268,323686\\n4528,727553\\n2532,764040\\n936,672049\\n4775,910316\\n4035,961373\\n675,876985\\n1470,519517\\n1462,907198\\n552,699964\\n3592,432279\\n4801,341969\\n604,247908\\n946,336076\\n627,966911'"
      ]
     },
     "execution_count": 40,
     "metadata": {},
     "output_type": "execute_result"
    }
   ],
   "source": [
    "data"
   ]
  },
  {
   "cell_type": "code",
   "execution_count": null,
   "metadata": {},
   "outputs": [],
   "source": [
    "# we have multiple \\n so we split it based on \\n"
   ]
  },
  {
   "cell_type": "code",
   "execution_count": 49,
   "metadata": {},
   "outputs": [],
   "source": [
    "hometype = data.split('\\n')"
   ]
  },
  {
   "cell_type": "code",
   "execution_count": 50,
   "metadata": {},
   "outputs": [
    {
     "name": "stdout",
     "output_type": "stream",
     "text": [
      "['2604,762833', '3095,248894', '3337,892307', '3217,778811', '2860,763554', '2770,742630', '2085,781118', '3863,955448', '3205,151643', '3233,278067', '4706,918707', '1651,715654', '4063,288055', '3249,212246', '2143,969271', '1288,283251', '3060,64632', '4096,517284', '2581,983617', '4900,719054', '2919,350175', '2361,847687', '4068,478945', '3628,368763', '889,498389', '738,666705', '870,641584', '3380,177303', '2551,63295', '1840,879537', '4237,217162', '3877,162258', '4553,822152', '4931,493866', '4647,370454', '4268,323686', '4528,727553', '2532,764040', '936,672049', '4775,910316', '4035,961373', '675,876985', '1470,519517', '1462,907198', '552,699964', '3592,432279', '4801,341969', '604,247908', '946,336076', '627,966911']\n"
     ]
    }
   ],
   "source": [
    "print(hometype)"
   ]
  },
  {
   "cell_type": "code",
   "execution_count": 51,
   "metadata": {},
   "outputs": [],
   "source": [
    "size = []\n",
    "price = []\n",
    "for i in hometype:\n",
    "    s = i.split(',')\n",
    "    size.append(int(s[0]))\n",
    "    price.append(int(s[1]))\n",
    "\n",
    "\n"
   ]
  },
  {
   "cell_type": "code",
   "execution_count": 52,
   "metadata": {},
   "outputs": [
    {
     "name": "stdout",
     "output_type": "stream",
     "text": [
      "[2604, 3095, 3337, 3217, 2860, 2770, 2085, 3863, 3205, 3233, 4706, 1651, 4063, 3249, 2143, 1288, 3060, 4096, 2581, 4900, 2919, 2361, 4068, 3628, 889, 738, 870, 3380, 2551, 1840, 4237, 3877, 4553, 4931, 4647, 4268, 4528, 2532, 936, 4775, 4035, 675, 1470, 1462, 552, 3592, 4801, 604, 946, 627]\n",
      "[762833, 248894, 892307, 778811, 763554, 742630, 781118, 955448, 151643, 278067, 918707, 715654, 288055, 212246, 969271, 283251, 64632, 517284, 983617, 719054, 350175, 847687, 478945, 368763, 498389, 666705, 641584, 177303, 63295, 879537, 217162, 162258, 822152, 493866, 370454, 323686, 727553, 764040, 672049, 910316, 961373, 876985, 519517, 907198, 699964, 432279, 341969, 247908, 336076, 966911]\n"
     ]
    }
   ],
   "source": [
    "\n",
    "print(size)\n",
    "print(price)"
   ]
  },
  {
   "cell_type": "code",
   "execution_count": null,
   "metadata": {},
   "outputs": [],
   "source": [
    "# Fruits and price , osko separately fruit aur price ki list me save krna ha"
   ]
  },
  {
   "cell_type": "code",
   "execution_count": 54,
   "metadata": {},
   "outputs": [
    {
     "data": {
      "text/plain": [
       "[<matplotlib.lines.Line2D at 0x10f1aac50>]"
      ]
     },
     "execution_count": 54,
     "metadata": {},
     "output_type": "execute_result"
    },
    {
     "data": {
      "image/png": "[encoded data removed]",
      "text/plain": [
       "<Figure size 640x480 with 1 Axes>"
      ]
     },
     "metadata": {},
     "output_type": "display_data"
    }
   ],
   "source": [
    "import matplotlib.pyplot as plt \n",
    "plt.plot(size,price,'x')"
   ]
  },
  {
   "cell_type": "code",
   "execution_count": null,
   "metadata": {},
   "outputs": [],
   "source": []
  },
  {
   "cell_type": "code",
   "execution_count": null,
   "metadata": {},
   "outputs": [],
   "source": []
  }
 ],
 "metadata": {
  "kernelspec": {
   "display_name": "Python 3",
   "language": "python",
   "name": "python3"
  },
  "language_info": {
   "codemirror_mode": {
    "name": "ipython",
    "version": 3
   },
   "file_extension": ".py",
   "mimetype": "text/x-python",
   "name": "python",
   "nbconvert_exporter": "python",
   "pygments_lexer": "ipython3",
   "version": "3.11.4"
  }
 },
 "nbformat": 4,
 "nbformat_minor": 2
}
